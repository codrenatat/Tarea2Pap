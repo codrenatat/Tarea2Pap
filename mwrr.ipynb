{
 "cells": [
  {
   "cell_type": "code",
   "execution_count": null,
   "id": "222d105f",
   "metadata": {},
   "outputs": [
    {
     "name": "stdout",
     "output_type": "stream",
     "text": [
      "Movements limpios:\n",
      "   Contract         Description  Movement_Import       Operation_Date\n",
      "0  20486403  RETIRO DE EFECTIVO          26000.0   4 de enero de 2023\n",
      "1  20486403  RETIRO DE EFECTIVO           1500.0  25 de enero de 2023\n",
      "2  12861603  RETIRO DE EFECTIVO          27000.0   3 de abril de 2023\n",
      "3  20486403  RETIRO DE EFECTIVO          23500.0  28 de abril de 2023\n",
      "4  12861603  RETIRO DE EFECTIVO            459.1   25 de mayo de 2023\n",
      "\n",
      "Balances limpios:\n",
      "   Contract                    Date  Portfolio_Value\n",
      "0  12861603     1 de agosto de 2023     249069.46260\n",
      "1  12861603    1 de febrero de 2023     281525.53110\n",
      "2  12861603      1 de junio de 2023     274399.30320\n",
      "3  12861603      1 de marzo de 2023     293920.64506\n",
      "4  12861603  1 de noviembre de 2023     256036.19410\n"
     ]
    }
   ],
   "source": [
    "import pandas as pd\n",
    "\n",
    "# contratos\n",
    "CONTRATOS = [\"20486403\", \"12861603\", \"AHA84901\"]\n",
    "\n",
    "def clean_movements_data(df_mov):\n",
    "    df_mov = df_mov.drop_duplicates()\n",
    "    df_mov = df_mov[[\"contract\", \"description\", \"movement_import\", \"operation_date\"]]\n",
    "    df_mov[\"movement_import\"] = pd.to_numeric(df_mov[\"movement_import\"], errors=\"coerce\")\n",
    "    df_mov = df_mov[df_mov[\"contract\"].astype(str).isin(CONTRATOS)]\n",
    "\n",
    "    depositos_mask = df_mov[\"description\"].str.contains(\"Depósito|Aportación\", case=False, na=False)\n",
    "    retiros_mask   = df_mov[\"description\"].str.contains(\"Retiro|Salida\", case=False, na=False)\n",
    "\n",
    "    df_dep_ret = df_mov[depositos_mask | retiros_mask].copy().reset_index(drop=True)\n",
    "\n",
    "    df_dep_ret = df_dep_ret.rename(columns={\n",
    "        \"contract\": \"Contract\",\n",
    "        \"description\": \"Description\",\n",
    "        \"movement_import\": \"Movement_Import\",\n",
    "        \"operation_date\": \"Operation_Date\"\n",
    "    })\n",
    "\n",
    "    return df_dep_ret\n",
    "\n",
    "\n",
    "def clean_balance_data(df_bal):\n",
    "    df_bal = df_bal.drop_duplicates()\n",
    "    df_bal = df_bal[[\"contract\", \"balance_date\", \"value_pos_mdo\"]]\n",
    "    df_bal[\"value_pos_mdo\"] = pd.to_numeric(df_bal[\"value_pos_mdo\"], errors=\"coerce\")\n",
    "    df_bal = df_bal[df_bal[\"contract\"].astype(str).isin(CONTRATOS)]\n",
    "\n",
    "    df_port = (df_bal\n",
    "               .groupby([\"contract\", \"balance_date\"], as_index=False, dropna=True)[\"value_pos_mdo\"]\n",
    "               .sum()\n",
    "               .rename(columns={\n",
    "                   \"contract\": \"Contract\",\n",
    "                   \"balance_date\": \"Date\",\n",
    "                   \"value_pos_mdo\": \"Portfolio_Value\"\n",
    "               }))\n",
    "\n",
    "    df_port = df_port.sort_values([\"Contract\", \"Date\"]).reset_index(drop=True)\n",
    "\n",
    "    return df_port\n",
    "\n",
    "archivo = \"data_actividad.xlsx\"\n",
    "\n",
    "df_mov_raw = pd.read_excel(archivo, sheet_name=\"movements\")\n",
    "df_bal_raw = pd.read_excel(archivo, sheet_name=\"balances\")\n",
    "\n",
    "df_mov_clean = clean_movements_data(df_mov_raw)\n",
    "df_bal_clean = clean_balance_data(df_bal_raw)\n",
    "\n",
    "print(\"Movements limpios:\")\n",
    "print(df_mov_clean.head())\n",
    "\n",
    "print(\"\\nBalances limpios:\")\n",
    "print(df_bal_clean.head())\n",
    "\n",
    "# exportar si hace falta\n",
    "df_mov_clean.to_csv(\"depositos_retiros.csv\", index=False, encoding=\"utf-8-sig\")\n",
    "df_bal_clean.to_csv(\"valor_portafolio_diario.csv\", index=False, encoding=\"utf-8-sig\")\n",
    "\n"
   ]
  }
 ],
 "metadata": {
  "kernelspec": {
   "display_name": "Python 3",
   "language": "python",
   "name": "python3"
  },
  "language_info": {
   "codemirror_mode": {
    "name": "ipython",
    "version": 3
   },
   "file_extension": ".py",
   "mimetype": "text/x-python",
   "name": "python",
   "nbconvert_exporter": "python",
   "pygments_lexer": "ipython3",
   "version": "3.13.7"
  }
 },
 "nbformat": 4,
 "nbformat_minor": 5
}
